{
 "cells": [
  {
   "cell_type": "code",
   "execution_count": 1,
   "id": "d17a86be-3839-47e3-93e7-108fd36148c1",
   "metadata": {},
   "outputs": [],
   "source": [
    "import numpy as np\n",
    "import pandas as pd\n",
    "import matplotlib.pyplot as plt\n",
    "%matplotlib inline\n",
    "import seaborn as sns\n",
    "import warnings\n",
    "\n",
    "warnings.filterwarnings('ignore')"
   ]
  },
  {
   "cell_type": "code",
   "execution_count": null,
   "id": "363bd1a8-91eb-4291-9050-8863b76f03b9",
   "metadata": {},
   "outputs": [],
   "source": []
  },
  {
   "cell_type": "code",
   "execution_count": 4,
   "id": "1f24e4fb-dc0d-4f19-9cf5-2b27f50b072b",
   "metadata": {},
   "outputs": [
    {
     "data": {
      "text/html": [
       "<div>\n",
       "<style scoped>\n",
       "    .dataframe tbody tr th:only-of-type {\n",
       "        vertical-align: middle;\n",
       "    }\n",
       "\n",
       "    .dataframe tbody tr th {\n",
       "        vertical-align: top;\n",
       "    }\n",
       "\n",
       "    .dataframe thead th {\n",
       "        text-align: right;\n",
       "    }\n",
       "</style>\n",
       "<table border=\"1\" class=\"dataframe\">\n",
       "  <thead>\n",
       "    <tr style=\"text-align: right;\">\n",
       "      <th></th>\n",
       "      <th>filename</th>\n",
       "      <th>length</th>\n",
       "      <th>chroma_stft_mean</th>\n",
       "      <th>chroma_stft_var</th>\n",
       "      <th>rms_mean</th>\n",
       "      <th>rms_var</th>\n",
       "      <th>spectral_centroid_mean</th>\n",
       "      <th>spectral_centroid_var</th>\n",
       "      <th>spectral_bandwidth_mean</th>\n",
       "      <th>spectral_bandwidth_var</th>\n",
       "      <th>...</th>\n",
       "      <th>mfcc16_var</th>\n",
       "      <th>mfcc17_mean</th>\n",
       "      <th>mfcc17_var</th>\n",
       "      <th>mfcc18_mean</th>\n",
       "      <th>mfcc18_var</th>\n",
       "      <th>mfcc19_mean</th>\n",
       "      <th>mfcc19_var</th>\n",
       "      <th>mfcc20_mean</th>\n",
       "      <th>mfcc20_var</th>\n",
       "      <th>label</th>\n",
       "    </tr>\n",
       "  </thead>\n",
       "  <tbody>\n",
       "    <tr>\n",
       "      <th>0</th>\n",
       "      <td>blues.00000.0.wav</td>\n",
       "      <td>66149</td>\n",
       "      <td>0.335406</td>\n",
       "      <td>0.091048</td>\n",
       "      <td>0.130405</td>\n",
       "      <td>0.003521</td>\n",
       "      <td>1773.065032</td>\n",
       "      <td>167541.630869</td>\n",
       "      <td>1972.744388</td>\n",
       "      <td>117335.771563</td>\n",
       "      <td>...</td>\n",
       "      <td>39.687145</td>\n",
       "      <td>-3.241280</td>\n",
       "      <td>36.488243</td>\n",
       "      <td>0.722209</td>\n",
       "      <td>38.099152</td>\n",
       "      <td>-5.050335</td>\n",
       "      <td>33.618073</td>\n",
       "      <td>-0.243027</td>\n",
       "      <td>43.771767</td>\n",
       "      <td>blues</td>\n",
       "    </tr>\n",
       "    <tr>\n",
       "      <th>1</th>\n",
       "      <td>blues.00000.1.wav</td>\n",
       "      <td>66149</td>\n",
       "      <td>0.343065</td>\n",
       "      <td>0.086147</td>\n",
       "      <td>0.112699</td>\n",
       "      <td>0.001450</td>\n",
       "      <td>1816.693777</td>\n",
       "      <td>90525.690866</td>\n",
       "      <td>2010.051501</td>\n",
       "      <td>65671.875673</td>\n",
       "      <td>...</td>\n",
       "      <td>64.748276</td>\n",
       "      <td>-6.055294</td>\n",
       "      <td>40.677654</td>\n",
       "      <td>0.159015</td>\n",
       "      <td>51.264091</td>\n",
       "      <td>-2.837699</td>\n",
       "      <td>97.030830</td>\n",
       "      <td>5.784063</td>\n",
       "      <td>59.943081</td>\n",
       "      <td>blues</td>\n",
       "    </tr>\n",
       "    <tr>\n",
       "      <th>2</th>\n",
       "      <td>blues.00000.2.wav</td>\n",
       "      <td>66149</td>\n",
       "      <td>0.346815</td>\n",
       "      <td>0.092243</td>\n",
       "      <td>0.132003</td>\n",
       "      <td>0.004620</td>\n",
       "      <td>1788.539719</td>\n",
       "      <td>111407.437613</td>\n",
       "      <td>2084.565132</td>\n",
       "      <td>75124.921716</td>\n",
       "      <td>...</td>\n",
       "      <td>67.336563</td>\n",
       "      <td>-1.768610</td>\n",
       "      <td>28.348579</td>\n",
       "      <td>2.378768</td>\n",
       "      <td>45.717648</td>\n",
       "      <td>-1.938424</td>\n",
       "      <td>53.050835</td>\n",
       "      <td>2.517375</td>\n",
       "      <td>33.105122</td>\n",
       "      <td>blues</td>\n",
       "    </tr>\n",
       "    <tr>\n",
       "      <th>3</th>\n",
       "      <td>blues.00000.3.wav</td>\n",
       "      <td>66149</td>\n",
       "      <td>0.363639</td>\n",
       "      <td>0.086856</td>\n",
       "      <td>0.132565</td>\n",
       "      <td>0.002448</td>\n",
       "      <td>1655.289045</td>\n",
       "      <td>111952.284517</td>\n",
       "      <td>1960.039988</td>\n",
       "      <td>82913.639269</td>\n",
       "      <td>...</td>\n",
       "      <td>47.739452</td>\n",
       "      <td>-3.841155</td>\n",
       "      <td>28.337118</td>\n",
       "      <td>1.218588</td>\n",
       "      <td>34.770935</td>\n",
       "      <td>-3.580352</td>\n",
       "      <td>50.836224</td>\n",
       "      <td>3.630866</td>\n",
       "      <td>32.023678</td>\n",
       "      <td>blues</td>\n",
       "    </tr>\n",
       "    <tr>\n",
       "      <th>4</th>\n",
       "      <td>blues.00000.4.wav</td>\n",
       "      <td>66149</td>\n",
       "      <td>0.335579</td>\n",
       "      <td>0.088129</td>\n",
       "      <td>0.143289</td>\n",
       "      <td>0.001701</td>\n",
       "      <td>1630.656199</td>\n",
       "      <td>79667.267654</td>\n",
       "      <td>1948.503884</td>\n",
       "      <td>60204.020268</td>\n",
       "      <td>...</td>\n",
       "      <td>30.336359</td>\n",
       "      <td>0.664582</td>\n",
       "      <td>45.880913</td>\n",
       "      <td>1.689446</td>\n",
       "      <td>51.363583</td>\n",
       "      <td>-3.392489</td>\n",
       "      <td>26.738789</td>\n",
       "      <td>0.536961</td>\n",
       "      <td>29.146694</td>\n",
       "      <td>blues</td>\n",
       "    </tr>\n",
       "  </tbody>\n",
       "</table>\n",
       "<p>5 rows × 60 columns</p>\n",
       "</div>"
      ],
      "text/plain": [
       "            filename  length  chroma_stft_mean  chroma_stft_var  rms_mean  \\\n",
       "0  blues.00000.0.wav   66149          0.335406         0.091048  0.130405   \n",
       "1  blues.00000.1.wav   66149          0.343065         0.086147  0.112699   \n",
       "2  blues.00000.2.wav   66149          0.346815         0.092243  0.132003   \n",
       "3  blues.00000.3.wav   66149          0.363639         0.086856  0.132565   \n",
       "4  blues.00000.4.wav   66149          0.335579         0.088129  0.143289   \n",
       "\n",
       "    rms_var  spectral_centroid_mean  spectral_centroid_var  \\\n",
       "0  0.003521             1773.065032          167541.630869   \n",
       "1  0.001450             1816.693777           90525.690866   \n",
       "2  0.004620             1788.539719          111407.437613   \n",
       "3  0.002448             1655.289045          111952.284517   \n",
       "4  0.001701             1630.656199           79667.267654   \n",
       "\n",
       "   spectral_bandwidth_mean  spectral_bandwidth_var  ...  mfcc16_var  \\\n",
       "0              1972.744388           117335.771563  ...   39.687145   \n",
       "1              2010.051501            65671.875673  ...   64.748276   \n",
       "2              2084.565132            75124.921716  ...   67.336563   \n",
       "3              1960.039988            82913.639269  ...   47.739452   \n",
       "4              1948.503884            60204.020268  ...   30.336359   \n",
       "\n",
       "   mfcc17_mean  mfcc17_var  mfcc18_mean  mfcc18_var  mfcc19_mean  mfcc19_var  \\\n",
       "0    -3.241280   36.488243     0.722209   38.099152    -5.050335   33.618073   \n",
       "1    -6.055294   40.677654     0.159015   51.264091    -2.837699   97.030830   \n",
       "2    -1.768610   28.348579     2.378768   45.717648    -1.938424   53.050835   \n",
       "3    -3.841155   28.337118     1.218588   34.770935    -3.580352   50.836224   \n",
       "4     0.664582   45.880913     1.689446   51.363583    -3.392489   26.738789   \n",
       "\n",
       "   mfcc20_mean  mfcc20_var  label  \n",
       "0    -0.243027   43.771767  blues  \n",
       "1     5.784063   59.943081  blues  \n",
       "2     2.517375   33.105122  blues  \n",
       "3     3.630866   32.023678  blues  \n",
       "4     0.536961   29.146694  blues  \n",
       "\n",
       "[5 rows x 60 columns]"
      ]
     },
     "execution_count": 4,
     "metadata": {},
     "output_type": "execute_result"
    }
   ],
   "source": [
    "df = pd.read_csv('features_3_sec.csv')\n",
    "df.head()"
   ]
  },
  {
   "cell_type": "code",
   "execution_count": null,
   "id": "936d7e39-de70-4c78-bb1b-86809461ee20",
   "metadata": {},
   "outputs": [],
   "source": []
  },
  {
   "cell_type": "code",
   "execution_count": null,
   "id": "e22bcc10-65ff-43ba-ad57-188693151460",
   "metadata": {},
   "outputs": [],
   "source": []
  },
  {
   "cell_type": "markdown",
   "id": "170992ff-ef6c-42f5-a111-9443ec0dac99",
   "metadata": {},
   "source": [
    "# Drop filaname feature"
   ]
  },
  {
   "cell_type": "code",
   "execution_count": 9,
   "id": "8795e9d7-292e-4ccf-be59-74f21ab00d47",
   "metadata": {},
   "outputs": [],
   "source": [
    "df.drop('filename', axis=1, inplace=True)"
   ]
  },
  {
   "cell_type": "code",
   "execution_count": null,
   "id": "225263fd-aa01-4596-8d37-072a26507fbd",
   "metadata": {},
   "outputs": [],
   "source": []
  },
  {
   "cell_type": "code",
   "execution_count": null,
   "id": "afd33de5-d6a0-48ab-be29-8e08d448e78d",
   "metadata": {},
   "outputs": [],
   "source": []
  },
  {
   "cell_type": "markdown",
   "id": "68258ca5-5bff-489e-91d8-4e88eea69147",
   "metadata": {},
   "source": [
    "# See the missing values"
   ]
  },
  {
   "cell_type": "code",
   "execution_count": 14,
   "id": "b2058687-2808-4033-b87d-79b92781a052",
   "metadata": {},
   "outputs": [
    {
     "data": {
      "text/plain": [
       "length                     0\n",
       "chroma_stft_mean           0\n",
       "chroma_stft_var            0\n",
       "rms_mean                   0\n",
       "rms_var                    0\n",
       "spectral_centroid_mean     0\n",
       "spectral_centroid_var      0\n",
       "spectral_bandwidth_mean    0\n",
       "spectral_bandwidth_var     0\n",
       "rolloff_mean               0\n",
       "rolloff_var                0\n",
       "zero_crossing_rate_mean    0\n",
       "zero_crossing_rate_var     0\n",
       "harmony_mean               0\n",
       "harmony_var                0\n",
       "perceptr_mean              0\n",
       "perceptr_var               0\n",
       "tempo                      0\n",
       "mfcc1_mean                 0\n",
       "mfcc1_var                  0\n",
       "mfcc2_mean                 0\n",
       "mfcc2_var                  0\n",
       "mfcc3_mean                 0\n",
       "mfcc3_var                  0\n",
       "mfcc4_mean                 0\n",
       "mfcc4_var                  0\n",
       "mfcc5_mean                 0\n",
       "mfcc5_var                  0\n",
       "mfcc6_mean                 0\n",
       "mfcc6_var                  0\n",
       "mfcc7_mean                 0\n",
       "mfcc7_var                  0\n",
       "mfcc8_mean                 0\n",
       "mfcc8_var                  0\n",
       "mfcc9_mean                 0\n",
       "mfcc9_var                  0\n",
       "mfcc10_mean                0\n",
       "mfcc10_var                 0\n",
       "mfcc11_mean                0\n",
       "mfcc11_var                 0\n",
       "mfcc12_mean                0\n",
       "mfcc12_var                 0\n",
       "mfcc13_mean                0\n",
       "mfcc13_var                 0\n",
       "mfcc14_mean                0\n",
       "mfcc14_var                 0\n",
       "mfcc15_mean                0\n",
       "mfcc15_var                 0\n",
       "mfcc16_mean                0\n",
       "mfcc16_var                 0\n",
       "mfcc17_mean                0\n",
       "mfcc17_var                 0\n",
       "mfcc18_mean                0\n",
       "mfcc18_var                 0\n",
       "mfcc19_mean                0\n",
       "mfcc19_var                 0\n",
       "mfcc20_mean                0\n",
       "mfcc20_var                 0\n",
       "label                      0\n",
       "dtype: int64"
      ]
     },
     "execution_count": 14,
     "metadata": {},
     "output_type": "execute_result"
    }
   ],
   "source": [
    "df.isnull().sum()"
   ]
  },
  {
   "cell_type": "markdown",
   "id": "01c0e128-34ac-4281-aae5-c2bf9f9e5403",
   "metadata": {},
   "source": [
    "### Observation: No missing value available"
   ]
  },
  {
   "cell_type": "code",
   "execution_count": null,
   "id": "ad94abb9-3e4d-4140-b0eb-da26318133a0",
   "metadata": {},
   "outputs": [],
   "source": []
  },
  {
   "cell_type": "code",
   "execution_count": null,
   "id": "a7c2c4ae-f73d-4a53-9462-4b566d1c98b9",
   "metadata": {},
   "outputs": [],
   "source": []
  },
  {
   "cell_type": "markdown",
   "id": "da702885-dccd-4cf7-945f-df262aaa7ca5",
   "metadata": {},
   "source": [
    "# Categorical Encoding"
   ]
  },
  {
   "cell_type": "code",
   "execution_count": 20,
   "id": "bdc4f75f-01c9-4b42-9f63-36c7aedc4781",
   "metadata": {},
   "outputs": [],
   "source": [
    "from sklearn.preprocessing import LabelEncoder"
   ]
  },
  {
   "cell_type": "code",
   "execution_count": 21,
   "id": "68422ad9-0129-4d0b-857f-48f4de75edd7",
   "metadata": {},
   "outputs": [],
   "source": [
    "lb = LabelEncoder()\n",
    "df['label'] = lb.fit_transform(df['label'])"
   ]
  },
  {
   "cell_type": "code",
   "execution_count": null,
   "id": "e57a3fc4-0017-4fd2-a554-bdb127dd4993",
   "metadata": {},
   "outputs": [],
   "source": []
  },
  {
   "cell_type": "code",
   "execution_count": null,
   "id": "d32c63f6-0bdd-465f-832a-6dd0b23a8c28",
   "metadata": {},
   "outputs": [],
   "source": []
  },
  {
   "cell_type": "markdown",
   "id": "476cb5dd-c806-4927-a341-8db16f628d3f",
   "metadata": {},
   "source": [
    "# Model training"
   ]
  },
  {
   "cell_type": "code",
   "execution_count": 27,
   "id": "c27d95d8-42d0-4186-9c5b-baeb300f1222",
   "metadata": {},
   "outputs": [],
   "source": [
    "from sklearn.model_selection import train_test_split\n",
    "from imblearn.over_sampling import SMOTE\n",
    "\n",
    "X = df.drop('label', axis=1)\n",
    "y = df['label']\n",
    "X_train, X_test, y_train, y_test = train_test_split(X, y, random_state=42, test_size=0.25)\n",
    "\n",
    "smote = SMOTE(random_state=42)\n",
    "X_train, y_train = smote.fit_resample(X_train, y_train)"
   ]
  },
  {
   "cell_type": "code",
   "execution_count": null,
   "id": "cb0885ea-5abe-4409-9549-e8c100c9af49",
   "metadata": {},
   "outputs": [],
   "source": []
  },
  {
   "cell_type": "code",
   "execution_count": null,
   "id": "7d0cc34a-4d8c-4634-8c38-eb5cdfcc456c",
   "metadata": {},
   "outputs": [],
   "source": []
  },
  {
   "cell_type": "markdown",
   "id": "a87d388d-b304-4f37-a1d7-56d6531c44b2",
   "metadata": {},
   "source": [
    "# See the outliers"
   ]
  },
  {
   "cell_type": "code",
   "execution_count": 32,
   "id": "704f835c-9567-4ab2-b306-1437d2863e59",
   "metadata": {},
   "outputs": [
    {
     "data": {
      "image/png": "[encoded data removed]",
      "text/plain": [
       "<Figure size 1600x1000 with 18 Axes>"
      ]
     },
     "metadata": {},
     "output_type": "display_data"
    }
   ],
   "source": [
    "plt.figure(figsize=[16, 10])\n",
    "\n",
    "lst = ['length', 'chroma_stft_mean', 'chroma_stft_var', 'rms_mean', 'rms_var',\n",
    "       'spectral_centroid_mean', 'spectral_centroid_var',\n",
    "       'spectral_bandwidth_mean', 'spectral_bandwidth_var', 'rolloff_mean',\n",
    "       'rolloff_var', 'zero_crossing_rate_mean', 'zero_crossing_rate_var',\n",
    "       'harmony_mean', 'harmony_var', 'perceptr_mean', 'perceptr_var', 'tempo']\n",
    "for i, j in enumerate(lst):\n",
    "    plt.subplot(6, 4, i+1)\n",
    "    plt.title(j)\n",
    "    sns.boxplot(data=df[j])\n",
    "    plt.tight_layout()"
   ]
  },
  {
   "cell_type": "code",
   "execution_count": null,
   "id": "d0661dd3-e661-4a0c-90d4-4394a78457a5",
   "metadata": {},
   "outputs": [],
   "source": []
  },
  {
   "cell_type": "code",
   "execution_count": null,
   "id": "bc4ecd80-6324-44f3-906f-5f90fd663af0",
   "metadata": {},
   "outputs": [],
   "source": []
  },
  {
   "cell_type": "markdown",
   "id": "d8871ba9-b459-4668-b782-861339313772",
   "metadata": {},
   "source": [
    "# Fix the outliers"
   ]
  },
  {
   "cell_type": "code",
   "execution_count": 36,
   "id": "97645c88-819c-483f-98ef-a24ae91f4108",
   "metadata": {},
   "outputs": [],
   "source": [
    "def fix_outlier(dataset, feature):\n",
    "    iqr = dataset[feature].quantile(0.75) - dataset[feature].quantile(0.25)\n",
    "    upper_border = dataset[feature].quantile(0.75) + (iqr*1.5)\n",
    "    lower_border = dataset[feature].quantile(0.25) - (iqr*1.5)\n",
    "    dataset[feature] = np.clip(dataset[feature], lower_border, upper_border)\n",
    "\n",
    "for feature in X_train:\n",
    "    fix_outlier(X_train, feature)\n",
    "    fix_outlier(X_test, feature)"
   ]
  },
  {
   "cell_type": "code",
   "execution_count": null,
   "id": "26fe9257-0ca3-4aae-9e6e-075609bce70a",
   "metadata": {},
   "outputs": [],
   "source": []
  },
  {
   "cell_type": "code",
   "execution_count": null,
   "id": "e5f4f59d-34ef-42d4-9ff8-6a954ff786f9",
   "metadata": {},
   "outputs": [],
   "source": []
  },
  {
   "cell_type": "markdown",
   "id": "0935f05a-f822-4c5d-aaa0-8d0d8457833e",
   "metadata": {},
   "source": [
    "# Fix the skewed features"
   ]
  },
  {
   "cell_type": "code",
   "execution_count": 42,
   "id": "d7a4ddb0-eda0-4afb-99b1-82f4abdc636a",
   "metadata": {},
   "outputs": [],
   "source": [
    "from sklearn.preprocessing import PowerTransformer\n",
    "\n",
    "skewness = X_train.skew()\n",
    "skewed_features = skewness[(skewness>1) | (skewness<-1)].index.tolist()\n",
    "less_skewed_features = skewness[(skewness<=1) & (skewness>=-1)].index.tolist()"
   ]
  },
  {
   "cell_type": "code",
   "execution_count": 44,
   "id": "01738afd-4357-4a2c-924d-d599cb9ac3e1",
   "metadata": {},
   "outputs": [],
   "source": [
    "pt = PowerTransformer(method='yeo-johnson')\n",
    "X_train[skewed_features]= pt.fit_transform(X_train[skewed_features])\n",
    "X_test[skewed_features] = pt.transform(X_test[skewed_features])"
   ]
  },
  {
   "cell_type": "code",
   "execution_count": null,
   "id": "aa2558af-619f-42ce-b480-a975fe80720a",
   "metadata": {},
   "outputs": [],
   "source": []
  },
  {
   "cell_type": "code",
   "execution_count": null,
   "id": "75dbb511-589a-4b8e-992d-fbefde3ee4ca",
   "metadata": {},
   "outputs": [],
   "source": []
  },
  {
   "cell_type": "markdown",
   "id": "b56d8df9-ce9a-4c94-8e33-4ec7c6d1b512",
   "metadata": {},
   "source": [
    "# Apply standard scaler on less skewed features"
   ]
  },
  {
   "cell_type": "code",
   "execution_count": 49,
   "id": "2aad128e-9103-4b8c-ad2c-0f3acdfa1fbf",
   "metadata": {},
   "outputs": [],
   "source": [
    "from sklearn.preprocessing import StandardScaler\n",
    "\n",
    "scaler = StandardScaler()\n",
    "X_train[less_skewed_features] = scaler.fit_transform(X_train[less_skewed_features])\n",
    "X_test[less_skewed_features] = scaler.transform(X_test[less_skewed_features])"
   ]
  },
  {
   "cell_type": "code",
   "execution_count": null,
   "id": "8edf72db-44d5-49db-a13a-bf7fa730eedc",
   "metadata": {},
   "outputs": [],
   "source": []
  },
  {
   "cell_type": "code",
   "execution_count": null,
   "id": "109d54d1-420c-46f8-a3ec-d02ef189cbb5",
   "metadata": {},
   "outputs": [],
   "source": []
  },
  {
   "cell_type": "markdown",
   "id": "146b68d9-8cb2-48c4-9729-44f9aa3be6c7",
   "metadata": {},
   "source": [
    "# Apply PCA"
   ]
  },
  {
   "cell_type": "code",
   "execution_count": 54,
   "id": "c66a91e8-b235-4da6-8cbf-cacee290314d",
   "metadata": {},
   "outputs": [],
   "source": [
    "from sklearn.decomposition import PCA\n",
    "\n",
    "pca = PCA(n_components=20)\n",
    "X_train = pca.fit_transform(X_train)\n",
    "X_test = pca.transform(X_test)"
   ]
  },
  {
   "cell_type": "code",
   "execution_count": null,
   "id": "d4dfcc05-4d87-45ae-974d-de41de913bfe",
   "metadata": {},
   "outputs": [],
   "source": []
  },
  {
   "cell_type": "code",
   "execution_count": 57,
   "id": "a2c7d4e7-911c-4a79-891c-6e03f0bc205d",
   "metadata": {},
   "outputs": [],
   "source": [
    "features_name = [f\"pc{i}\" for i in range(1, X_train.shape[1]+1)]\n",
    "\n",
    "X_train= pd.DataFrame(X_train, columns=features_name)\n",
    "X_test = pd.DataFrame(X_test, columns=features_name)"
   ]
  },
  {
   "cell_type": "code",
   "execution_count": null,
   "id": "a94c54bb-92a2-4041-a1a0-911acfcbe822",
   "metadata": {},
   "outputs": [],
   "source": []
  },
  {
   "cell_type": "code",
   "execution_count": null,
   "id": "8e870271-2f01-434c-94db-4c0050ab7ba0",
   "metadata": {},
   "outputs": [],
   "source": []
  },
  {
   "cell_type": "markdown",
   "id": "d1432681-a969-4c47-99b3-606ff8278e24",
   "metadata": {},
   "source": [
    "# Model Creating"
   ]
  },
  {
   "cell_type": "code",
   "execution_count": 62,
   "id": "9968c790-7c91-4424-830c-21531a68c371",
   "metadata": {},
   "outputs": [],
   "source": [
    "from sklearn.linear_model import LogisticRegression\n",
    "from sklearn.svm import SVC\n",
    "from sklearn.naive_bayes import GaussianNB\n",
    "from sklearn.tree import DecisionTreeClassifier\n",
    "from sklearn.neighbors import KNeighborsClassifier\n",
    "from sklearn.ensemble import RandomForestClassifier\n",
    "from sklearn.ensemble import AdaBoostClassifier\n",
    "from sklearn.ensemble import GradientBoostingClassifier\n",
    "from xgboost import XGBClassifier\n",
    "\n",
    "from sklearn.metrics import accuracy_score, f1_score, recall_score"
   ]
  },
  {
   "cell_type": "code",
   "execution_count": 64,
   "id": "4cb74136-2dfd-4c4c-98e5-32184b3365a6",
   "metadata": {},
   "outputs": [],
   "source": [
    "models = {\n",
    "    'Logistic': LogisticRegression(),\n",
    "    'SVC': SVC(),\n",
    "    'Naive Bayes': GaussianNB(),\n",
    "    'Decision Tree': DecisionTreeClassifier(),\n",
    "    'KNN': KNeighborsClassifier(),\n",
    "    'Random Forest': RandomForestClassifier(),\n",
    "    'Ada Boost': AdaBoostClassifier(),\n",
    "    'Gradient Boost': GradientBoostingClassifier(),\n",
    "    'XGBoost': XGBClassifier()\n",
    "}"
   ]
  },
  {
   "cell_type": "code",
   "execution_count": 66,
   "id": "23a87a17-cb0b-4222-8445-32a01322689f",
   "metadata": {},
   "outputs": [
    {
     "name": "stdout",
     "output_type": "stream",
     "text": [
      "Logistic\n",
      "\t-Train accuracy score:  0.631701030927835\n",
      "\t-Train f1 score:  0.6275909779265157\n",
      "\t-Train recall score:  0.6317010309278351 \n",
      "\n",
      "\t-Test accuracy score:  0.6453162530024019\n",
      "\t-Test f1 score:  0.6348603791297333\n",
      "\t-Test recall score:  0.6454776315317123\n",
      "***************\n",
      "SVC\n",
      "\t-Train accuracy score:  0.856701030927835\n",
      "\t-Train f1 score:  0.8561637147299754\n",
      "\t-Train recall score:  0.856701030927835 \n",
      "\n",
      "\t-Test accuracy score:  0.8078462770216173\n",
      "\t-Test f1 score:  0.8053352797902612\n",
      "\t-Test recall score:  0.8072627068664039\n",
      "***************\n",
      "Naive Bayes\n",
      "\t-Train accuracy score:  0.5859536082474227\n",
      "\t-Train f1 score:  0.5809992706760183\n",
      "\t-Train recall score:  0.5859536082474226 \n",
      "\n",
      "\t-Test accuracy score:  0.588871096877502\n",
      "\t-Test f1 score:  0.5819802407740438\n",
      "\t-Test recall score:  0.588965462244934\n",
      "***************\n",
      "Decision Tree\n",
      "\t-Train accuracy score:  0.9992268041237113\n",
      "\t-Train f1 score:  0.9992267925675105\n",
      "\t-Train recall score:  0.9992268041237115 \n",
      "\n",
      "\t-Test accuracy score:  0.5912730184147318\n",
      "\t-Test f1 score:  0.5880251772695004\n",
      "\t-Test recall score:  0.5894697923855134\n",
      "***************\n",
      "KNN\n",
      "\t-Train accuracy score:  0.9088917525773196\n",
      "\t-Train f1 score:  0.908759715275467\n",
      "\t-Train recall score:  0.9088917525773195 \n",
      "\n",
      "\t-Test accuracy score:  0.8498799039231385\n",
      "\t-Test f1 score:  0.8486416663401778\n",
      "\t-Test recall score:  0.8490278553133894\n",
      "***************\n",
      "Random Forest\n",
      "\t-Train accuracy score:  0.9992268041237113\n",
      "\t-Train f1 score:  0.9992268041237115\n",
      "\t-Train recall score:  0.9992268041237115 \n",
      "\n",
      "\t-Test accuracy score:  0.8134507606084868\n",
      "\t-Test f1 score:  0.8106561636568657\n",
      "\t-Test recall score:  0.8125318691487738\n",
      "***************\n",
      "Ada Boost\n",
      "\t-Train accuracy score:  0.45347938144329897\n",
      "\t-Train f1 score:  0.4411757577708461\n",
      "\t-Train recall score:  0.453479381443299 \n",
      "\n",
      "\t-Test accuracy score:  0.4323458767013611\n",
      "\t-Test f1 score:  0.41850770794517017\n",
      "\t-Test recall score:  0.4310841491348886\n",
      "***************\n",
      "Gradient Boost\n",
      "\t-Train accuracy score:  0.878479381443299\n",
      "\t-Train f1 score:  0.8781028551486336\n",
      "\t-Train recall score:  0.878479381443299 \n",
      "\n",
      "\t-Test accuracy score:  0.7389911929543634\n",
      "\t-Test f1 score:  0.7369229957076964\n",
      "\t-Test recall score:  0.7385809639808076\n",
      "***************\n",
      "XGBoost\n",
      "\t-Train accuracy score:  0.9992268041237113\n",
      "\t-Train f1 score:  0.9992267989876649\n",
      "\t-Train recall score:  0.9992268041237112 \n",
      "\n",
      "\t-Test accuracy score:  0.8134507606084868\n",
      "\t-Test f1 score:  0.8117196159635613\n",
      "\t-Test recall score:  0.8129675332207599\n",
      "***************\n"
     ]
    }
   ],
   "source": [
    "for i in range(len(models)):\n",
    "    model = list(models.values())[i]\n",
    "    model.fit(X_train, y_train)\n",
    "\n",
    "    # Model Prediction\n",
    "    y_train_pred = model.predict(X_train)\n",
    "    y_test_pred = model.predict(X_test)\n",
    "\n",
    "    # Train data prediction\n",
    "    train_ac = accuracy_score(y_train, y_train_pred)\n",
    "    train_f1 = f1_score(y_train, y_train_pred, average='macro')\n",
    "    train_recall = recall_score(y_train, y_train_pred, average='macro')\n",
    "\n",
    "    # Test data prediction\n",
    "    test_ac = accuracy_score(y_test, y_test_pred)\n",
    "    test_f1 = f1_score(y_test, y_test_pred, average='macro')\n",
    "    test_recall = recall_score(y_test, y_test_pred, average='macro')\n",
    "\n",
    "    print(list(models.keys())[i])\n",
    "    print('\\t-Train accuracy score: ', train_ac)\n",
    "    print('\\t-Train f1 score: ', train_f1)\n",
    "    print('\\t-Train recall score: ', train_recall, '\\n')\n",
    "\n",
    "    print('\\t-Test accuracy score: ', test_ac)\n",
    "    print('\\t-Test f1 score: ', test_f1)\n",
    "    print('\\t-Test recall score: ', test_recall)\n",
    "\n",
    "    print('*'*15)"
   ]
  },
  {
   "cell_type": "code",
   "execution_count": null,
   "id": "5092cdd1-0bc0-483b-be60-69c5abc60149",
   "metadata": {},
   "outputs": [],
   "source": []
  },
  {
   "cell_type": "code",
   "execution_count": null,
   "id": "44408289-fb89-43c1-a882-eb20487adfb0",
   "metadata": {},
   "outputs": [],
   "source": []
  },
  {
   "cell_type": "markdown",
   "id": "4e01f6d7-0200-4a4f-bd35-8ecdeeb166a2",
   "metadata": {},
   "source": [
    "# Hyperparameter tuning"
   ]
  },
  {
   "cell_type": "code",
   "execution_count": 69,
   "id": "05860d72-3a14-4a8e-bdf4-e368911c88ec",
   "metadata": {},
   "outputs": [],
   "source": [
    "param_grid_svc = {\n",
    "    'C': [0.1, 1, 10, 100],  # Regularization parameter\n",
    "    'kernel': ['linear', 'rbf', 'poly', 'sigmoid'],  # Kernel type\n",
    "    'degree': [2, 3, 4],  # Degree of polynomial kernel (only relevant for 'poly')\n",
    "    'gamma': ['scale', 'auto', 0.001, 0.01, 0.1, 1],  # Kernel coefficient\n",
    "    'coef0': [0.0, 0.1, 0.5, 1],  # Independent term in 'poly' and 'sigmoid' kernels\n",
    "}\n",
    "\n",
    "param_grid_rf = {\n",
    "    'n_estimators': [50, 100, 200, 500],  # Number of trees\n",
    "    'max_depth': [None, 10, 20, 30],  # Maximum depth of trees\n",
    "    'min_samples_split': [2, 5, 10],  # Minimum samples to split a node\n",
    "    'min_samples_leaf': [1, 2, 4],  # Minimum samples in a leaf node\n",
    "    'max_features': ['sqrt', 'log2', None],  # Number of features to consider for splits\n",
    "    'bootstrap': [True, False],  # Whether to use bootstrapping\n",
    "}\n",
    "\n",
    "param_grid_knn = {\n",
    "    'n_neighbors': [3, 5, 7, 11, 15],  # Number of neighbors\n",
    "    'weights': ['uniform', 'distance'],  # Weighting of neighbors\n",
    "    'metric': ['euclidean', 'manhattan', 'minkowski'],  # Distance metric\n",
    "    'p': [1, 2]  # Power parameter for Minkowski distance (1=Manhattan, 2=Euclidean)\n",
    "}\n",
    "\n",
    "param_grid_xgb = {\n",
    "    'n_estimators': [50, 100, 200, 500],  # Number of boosting rounds\n",
    "    'learning_rate': [0.01, 0.1, 0.2, 0.3],  # Step size shrinkage\n",
    "    'max_depth': [3, 5, 7, 10],  # Maximum depth of trees\n",
    "    'subsample': [0.6, 0.8, 1.0],  # Fraction of samples per boosting round\n",
    "    'colsample_bytree': [0.6, 0.8, 1.0],  # Fraction of features for each tree\n",
    "    'gamma': [0, 0.1, 0.2, 0.3],  # Minimum loss reduction required for a split\n",
    "    'reg_alpha': [0, 0.1, 0.5, 1],  # L1 regularization\n",
    "    'reg_lambda': [0, 0.1, 0.5, 1]  # L2 regularization\n",
    "}"
   ]
  },
  {
   "cell_type": "code",
   "execution_count": 73,
   "id": "1c5332bd-01ee-47c2-9cff-c96f17967f9e",
   "metadata": {},
   "outputs": [],
   "source": [
    "random_cv_model = [\n",
    "    ('SVC', SVC(), param_grid_svc),\n",
    "    ('RandomForest', RandomForestClassifier(), param_grid_rf),\n",
    "    ('KNN', KNeighborsClassifier(), param_grid_knn),\n",
    "    ('XGBoost', XGBClassifier(), param_grid_xgb)\n",
    "]"
   ]
  },
  {
   "cell_type": "code",
   "execution_count": 75,
   "id": "933292e1-fdf0-4501-90e2-bb2f72cba0e6",
   "metadata": {},
   "outputs": [
    {
     "name": "stdout",
     "output_type": "stream",
     "text": [
      "Fitting 3 folds for each of 100 candidates, totalling 300 fits\n",
      "---------- Best Params SVC ----------\n",
      "{'kernel': 'rbf', 'gamma': 0.1, 'degree': 2, 'coef0': 0.1, 'C': 10}\n",
      "Fitting 3 folds for each of 100 candidates, totalling 300 fits\n",
      "---------- Best Params SVC ----------\n",
      "{'kernel': 'rbf', 'gamma': 0.1, 'degree': 2, 'coef0': 0.1, 'C': 10}\n",
      "---------- Best Params RandomForest ----------\n",
      "{'n_estimators': 200, 'min_samples_split': 2, 'min_samples_leaf': 1, 'max_features': 'log2', 'max_depth': None, 'bootstrap': False}\n",
      "Fitting 3 folds for each of 60 candidates, totalling 180 fits\n",
      "---------- Best Params SVC ----------\n",
      "{'kernel': 'rbf', 'gamma': 0.1, 'degree': 2, 'coef0': 0.1, 'C': 10}\n",
      "---------- Best Params RandomForest ----------\n",
      "{'n_estimators': 200, 'min_samples_split': 2, 'min_samples_leaf': 1, 'max_features': 'log2', 'max_depth': None, 'bootstrap': False}\n",
      "---------- Best Params KNN ----------\n",
      "{'weights': 'distance', 'p': 1, 'n_neighbors': 3, 'metric': 'manhattan'}\n",
      "Fitting 3 folds for each of 100 candidates, totalling 300 fits\n",
      "---------- Best Params SVC ----------\n",
      "{'kernel': 'rbf', 'gamma': 0.1, 'degree': 2, 'coef0': 0.1, 'C': 10}\n",
      "---------- Best Params RandomForest ----------\n",
      "{'n_estimators': 200, 'min_samples_split': 2, 'min_samples_leaf': 1, 'max_features': 'log2', 'max_depth': None, 'bootstrap': False}\n",
      "---------- Best Params KNN ----------\n",
      "{'weights': 'distance', 'p': 1, 'n_neighbors': 3, 'metric': 'manhattan'}\n",
      "---------- Best Params XGBoost ----------\n",
      "{'subsample': 0.6, 'reg_lambda': 1, 'reg_alpha': 0, 'n_estimators': 500, 'max_depth': 10, 'learning_rate': 0.1, 'gamma': 0, 'colsample_bytree': 0.8}\n"
     ]
    }
   ],
   "source": [
    "from sklearn.model_selection import RandomizedSearchCV\n",
    "\n",
    "model_params = {}\n",
    "for name, model, param in random_cv_model:\n",
    "    randomcv = RandomizedSearchCV(estimator=model, param_distributions=param,\n",
    "                                  n_iter=100,\n",
    "                                  cv=3, \n",
    "                                  verbose=2, \n",
    "                                  n_jobs=-1)\n",
    "    randomcv.fit(X_train, y_train)\n",
    "    model_params[name] = randomcv.best_params_\n",
    "\n",
    "    for name in model_params:\n",
    "        print(f\"---------- Best Params {name} ----------\")\n",
    "        print(model_params[name])"
   ]
  },
  {
   "cell_type": "code",
   "execution_count": null,
   "id": "973acf42-57ea-45d2-8d5b-b2eaf99fd3d5",
   "metadata": {},
   "outputs": [],
   "source": []
  },
  {
   "cell_type": "code",
   "execution_count": 77,
   "id": "c4deb1ca-153b-4266-ac59-0613b6372c0a",
   "metadata": {},
   "outputs": [],
   "source": [
    "models = {\n",
    "    'SVC': SVC(kernel= 'rbf', gamma= 0.1, degree= 2, coef0= 0.1, C= 10),\n",
    "    \n",
    "    'KNN': KNeighborsClassifier(weights= 'distance', p= 1, n_neighbors= 3, metric= 'manhattan'),\n",
    "    \n",
    "    'Random Forest': RandomForestClassifier(n_estimators= 200, min_samples_split= 2, min_samples_leaf= 1, max_features= 'log2',\n",
    "                                            max_depth= None, bootstrap= False),\n",
    "    \n",
    "    'XGBoost': XGBClassifier(subsample= 0.6, reg_lambda= 1, reg_alpha= 0, n_estimators= 500, \n",
    "                             max_depth= 10, learning_rate= 0.1, gamma= 0, colsample_bytree= 0.8)\n",
    "}"
   ]
  },
  {
   "cell_type": "code",
   "execution_count": 79,
   "id": "9f94334a-819d-4b3e-849f-8151881dac63",
   "metadata": {},
   "outputs": [
    {
     "name": "stdout",
     "output_type": "stream",
     "text": [
      "SVC\n",
      "\t-Train accuracy score:  0.9992268041237113\n",
      "\t-Train f1 score:  0.9992267925675105\n",
      "\t-Train recall score:  0.9992268041237115 \n",
      "\n",
      "\t-Test accuracy score:  0.8943154523618895\n",
      "\t-Test f1 score:  0.8936090345905641\n",
      "\t-Test recall score:  0.8937587883221655\n",
      "***************\n",
      "KNN\n",
      "\t-Train accuracy score:  0.9992268041237113\n",
      "\t-Train f1 score:  0.9992267925675105\n",
      "\t-Train recall score:  0.9992268041237115 \n",
      "\n",
      "\t-Test accuracy score:  0.8698959167333867\n",
      "\t-Test f1 score:  0.8686856433451673\n",
      "\t-Test recall score:  0.8687883561200331\n",
      "***************\n",
      "Random Forest\n",
      "\t-Train accuracy score:  0.9992268041237113\n",
      "\t-Train f1 score:  0.9992267925675105\n",
      "\t-Train recall score:  0.9992268041237115 \n",
      "\n",
      "\t-Test accuracy score:  0.8402722177742193\n",
      "\t-Test f1 score:  0.8382995677488786\n",
      "\t-Test recall score:  0.8396499804466513\n",
      "***************\n",
      "XGBoost\n",
      "\t-Train accuracy score:  0.9992268041237113\n",
      "\t-Train f1 score:  0.999226802839706\n",
      "\t-Train recall score:  0.9992268041237112 \n",
      "\n",
      "\t-Test accuracy score:  0.8198558847077662\n",
      "\t-Test f1 score:  0.8179427126197856\n",
      "\t-Test recall score:  0.8193033051206786\n",
      "***************\n"
     ]
    }
   ],
   "source": [
    "for i in range(len(models)):\n",
    "    model = list(models.values())[i]\n",
    "    model.fit(X_train, y_train)\n",
    "\n",
    "    # Model Prediction\n",
    "    y_train_pred = model.predict(X_train)\n",
    "    y_test_pred = model.predict(X_test)\n",
    "\n",
    "    # Train data prediction\n",
    "    train_ac = accuracy_score(y_train, y_train_pred)\n",
    "    train_f1 = f1_score(y_train, y_train_pred, average='macro')\n",
    "    train_recall = recall_score(y_train, y_train_pred, average='macro')\n",
    "\n",
    "    # Test data prediction\n",
    "    test_ac = accuracy_score(y_test, y_test_pred)\n",
    "    test_f1 = f1_score(y_test, y_test_pred, average='macro')\n",
    "    test_recall = recall_score(y_test, y_test_pred, average='macro')\n",
    "\n",
    "    print(list(models.keys())[i])\n",
    "    print('\\t-Train accuracy score: ', train_ac)\n",
    "    print('\\t-Train f1 score: ', train_f1)\n",
    "    print('\\t-Train recall score: ', train_recall, '\\n')\n",
    "\n",
    "    print('\\t-Test accuracy score: ', test_ac)\n",
    "    print('\\t-Test f1 score: ', test_f1)\n",
    "    print('\\t-Test recall score: ', test_recall)\n",
    "\n",
    "    print('*'*15)"
   ]
  },
  {
   "cell_type": "code",
   "execution_count": null,
   "id": "ad7ff96a-d954-4532-915e-4eb42e411163",
   "metadata": {},
   "outputs": [],
   "source": []
  },
  {
   "cell_type": "code",
   "execution_count": null,
   "id": "31af2fd2-94ad-4807-883f-e3263e62c256",
   "metadata": {},
   "outputs": [],
   "source": []
  },
  {
   "cell_type": "code",
   "execution_count": null,
   "id": "eeee5976-3a76-4c54-83a3-c4244e6a4d86",
   "metadata": {},
   "outputs": [],
   "source": []
  },
  {
   "cell_type": "code",
   "execution_count": null,
   "id": "3ce25835-d1c7-4724-85a8-e40d7aea7324",
   "metadata": {},
   "outputs": [],
   "source": []
  },
  {
   "cell_type": "code",
   "execution_count": null,
   "id": "b8ed9b2b-ec41-43ee-abab-2722ed4f44b9",
   "metadata": {},
   "outputs": [],
   "source": []
  }
 ],
 "metadata": {
  "kernelspec": {
   "display_name": "Python 3 (ipykernel)",
   "language": "python",
   "name": "python3"
  },
  "language_info": {
   "codemirror_mode": {
    "name": "ipython",
    "version": 3
   },
   "file_extension": ".py",
   "mimetype": "text/x-python",
   "name": "python",
   "nbconvert_exporter": "python",
   "pygments_lexer": "ipython3",
   "version": "3.11.7"
  }
 },
 "nbformat": 4,
 "nbformat_minor": 5
}
